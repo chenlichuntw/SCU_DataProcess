{
 "cells": [
  {
   "cell_type": "markdown",
   "metadata": {},
   "source": [
    "# 作業三"
   ]
  },
  {
   "cell_type": "markdown",
   "metadata": {},
   "source": [
    "## 1.\t本次作業需要下載檔案，檔案為歷年專利案件數量統計(如連結)\n",
    "### 1-1 請讀取檔案，請撰寫一程式計算屬於”舉發案申請”共有多少列。\n",
    "請在下方貼上你的程式碼、程式執行結果截圖(15%)"
   ]
  },
  {
   "cell_type": "code",
   "execution_count": null,
   "metadata": {},
   "outputs": [],
   "source": [
    "from pandas import read_csv\n",
    "csv_data = read_csv('002-102-001.csv')"
   ]
  },
  {
   "cell_type": "code",
   "execution_count": null,
   "metadata": {},
   "outputs": [],
   "source": [
    "data1 = csv_data.values\n",
    "total = 0\n",
    "for i in data1 :\n",
    "    if i[1] == '舉發案申請' :\n",
    "        total += 1\n",
    "print(\"舉發案申請共有%d列\" %total)"
   ]
  },
  {
   "cell_type": "markdown",
   "metadata": {},
   "source": [
    "### 1-2 請讀取檔案，請撰寫一程式計算109年度且為”舉發案申請”每月有多少個。(可只列印出數字資料)\n",
    "請在下方貼上你的程式碼、程式執行結果截圖(15%)"
   ]
  },
  {
   "cell_type": "code",
   "execution_count": null,
   "metadata": {},
   "outputs": [],
   "source": [
    "L = []\n",
    "for i in data1 :\n",
    "    if i[0]//100 == 109 and i[1] == '舉發案申請' :\n",
    "        L = [int(i[2])] + L\n",
    "months = ('一月','二月','三月','四月','五月','六月','七月','八月','九月','十月','十一月','十二月')\n",
    "for k in range(0,len(months)) :\n",
    "    print(\"%s的舉發案申請有 %d 件\" %(months[k],L[k]))"
   ]
  },
  {
   "cell_type": "markdown",
   "metadata": {},
   "source": [
    "### 1-3 請根據1-2的結果畫出一個bar chart，圖的標題為’109 quantity of documents’，其中x軸為月份，y軸為數量。\n",
    "請在下方貼上你的程式碼、程式執行圖形貼在下方。(20%)"
   ]
  },
  {
   "cell_type": "code",
   "execution_count": null,
   "metadata": {},
   "outputs": [],
   "source": [
    "import matplotlib.pyplot as plt\n",
    "import numpy as np\n",
    "month = ('Jan','Feb','Mar','Apr','May','Jun','Jul','Aug','Sep','Oct','Nov','Dec')\n",
    "y_pos = np.arange(len(month)) \n",
    "performance = L\n",
    "plt.bar(y_pos, performance, align = 'center', alpha = 0.5)\n",
    "plt.xticks(y_pos, month)\n",
    "plt.xlabel('2020')\n",
    "plt.title('109 quantity of documents')\n",
    "plt.show()"
   ]
  },
  {
   "cell_type": "markdown",
   "metadata": {},
   "source": [
    "## 2. 請自行選圖，撰寫一程式將該圖片從彩色轉為灰階，請在下方貼上你的程式碼、彩色圖片、經過程式轉換後的灰階、黑白圖片。(50%)"
   ]
  },
  {
   "cell_type": "code",
   "execution_count": 9,
   "metadata": {},
   "outputs": [],
   "source": [
    "# 轉換為灰階、黑白\n",
    "import PIL.Image as Image\n",
    "img = Image.open('IMG_5794.PNG')\n",
    "image_file = img.convert('L')\n",
    "image_file.save('IMG_5794_1.PNG')\n",
    "\n",
    "thresh = 150\n",
    "fn = lambda x:  255 if x > thresh else 0\n",
    "img1 = img.convert('L').point(fn, mode = '1')\n",
    "img1.save('IMG_5794_2.PNG')"
   ]
  },
  {
   "cell_type": "code",
   "execution_count": null,
   "metadata": {},
   "outputs": [],
   "source": []
  }
 ],
 "metadata": {
  "kernelspec": {
   "display_name": "Python 3",
   "language": "python",
   "name": "python3"
  },
  "language_info": {
   "codemirror_mode": {
    "name": "ipython",
    "version": 3
   },
   "file_extension": ".py",
   "mimetype": "text/x-python",
   "name": "python",
   "nbconvert_exporter": "python",
   "pygments_lexer": "ipython3",
   "version": "3.8.3"
  }
 },
 "nbformat": 4,
 "nbformat_minor": 4
}
