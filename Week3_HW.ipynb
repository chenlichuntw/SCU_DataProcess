{
 "cells": [
  {
   "cell_type": "markdown",
   "metadata": {},
   "source": [
    "# Arithmetic Expression習題\n",
    "## 1. 請計算下列的arithmetic expression ，將其答案寫出， 並使用shell window(請先不要使用edit winodw)驗證結果。"
   ]
  },
  {
   "cell_type": "code",
   "execution_count": 1,
   "metadata": {},
   "outputs": [
    {
     "name": "stdout",
     "output_type": "stream",
     "text": [
      "7\n",
      "3\n",
      "10\n",
      "2\n",
      "1\n",
      "6\n",
      "9\n",
      "25\n",
      "13\n",
      "16\n",
      "4\n",
      "4\n",
      "25\n",
      "0\n",
      "30\n",
      "20\n"
     ]
    }
   ],
   "source": [
    "a1 = 5 + 2             #7\n",
    "a2 = 5 - 2             #3\n",
    "a3 = 5 * 2             #10\n",
    "a4 = 5 // 2            #2\n",
    "a5 = 5 % 2             #1\n",
    "a6 = 87 // 13          #6\n",
    "a7 = 87 % 13           #9\n",
    "a8 = 5 ** 2            #25\n",
    "a9 = 3 + 5*2           #13\n",
    "a10 = (3+5) * 2        #16\n",
    "a11 = 2 + 17 % 5       #4\n",
    "a12 = (2+17) % 5       #4\n",
    "a13 = 5 ** (14//5)     #25\n",
    "a14 = (8+ 5*2) % 3     #0\n",
    "a15 = 9*8 -  7*6       #30\n",
    "a16 = 6*5 - 4*3 + 2*1  #20\n",
    "print(a1,a2,a3,a4,a5,a6,a7,a8,a9,a10,a11,a12,a13,a14,a15,a16,sep = '\\n')\n",
    "\n",
    "#新思路：如何使用dictionary的功能列出題目與答案"
   ]
  },
  {
   "cell_type": "markdown",
   "metadata": {},
   "source": [
    "## 2. 請列出以下題目的執行順序，計算return value，並使用 python shell window驗證結果。"
   ]
  },
  {
   "cell_type": "code",
   "execution_count": 2,
   "metadata": {},
   "outputs": [
    {
     "name": "stdout",
     "output_type": "stream",
     "text": [
      "17\n",
      "7\n"
     ]
    }
   ],
   "source": [
    "b1 = 9 + 8 - 7*6//5%4        #17\n",
    "b2 = 2**3 + 15//3**2 - 12%5  #7\n",
    "print(b1,b2,sep = '\\n')"
   ]
  },
  {
   "cell_type": "markdown",
   "metadata": {},
   "source": [
    "## 3. 有些Arithmetic Expression不容易用人的計算能力算出，但 表示無法算出(算得出，但過程很無聊且易錯)。我們可以經由 電腦的快速運算來達到目標。請用算術式經python替您求解以 下各題，請不要抄寫答案，只要感受電腦高速運算的能力):"
   ]
  },
  {
   "cell_type": "code",
   "execution_count": null,
   "metadata": {},
   "outputs": [],
   "source": [
    "2**10\n",
    "2**100\n",
    "5**1000\n",
    "7**10000"
   ]
  },
  {
   "cell_type": "markdown",
   "metadata": {},
   "source": [
    "## 4. 請使用//, -, *來定義%。也就是(a, b皆為 正整數):"
   ]
  },
  {
   "cell_type": "code",
   "execution_count": 4,
   "metadata": {},
   "outputs": [
    {
     "name": "stdout",
     "output_type": "stream",
     "text": [
      "2|2\n"
     ]
    }
   ],
   "source": [
    "def division(a,b) :\n",
    "    ans = a - a//b*b\n",
    "    return ans\n",
    "question = 5 % 3\n",
    "ans = division(5,3)\n",
    "print(question,ans,sep = '|')"
   ]
  },
  {
   "cell_type": "markdown",
   "metadata": {},
   "source": [
    "# Boolean Expression習題\n",
    "## 1. 估算以下式的return value，並使用Python shell window 驗算您的結果是正確的。"
   ]
  },
  {
   "cell_type": "code",
   "execution_count": null,
   "metadata": {},
   "outputs": [],
   "source": [
    "a = True                     #True\n",
    "b = not True                 #False\n",
    "c = not not False            #False\n",
    "d = True and False           #False\n",
    "e = True or True             #True\n",
    "f = False or False           #False\n",
    "g = True and True            #True\n",
    "h = True or True             #True\n",
    "i = not True and True        #False\n",
    "j = not (True and True)      #False\n",
    "k = not False and False      #False\n",
    "l = not False and not False  #True\n",
    "print(a)\n",
    "print(b)\n",
    "print(c)\n",
    "print(d)\n",
    "print(e)\n",
    "print(f)\n",
    "print(g)\n",
    "print(h)\n",
    "print(i)\n",
    "print(j)\n",
    "print(k)\n",
    "print(l)"
   ]
  },
  {
   "cell_type": "markdown",
   "metadata": {},
   "source": [
    "## 2. 假設a,b,c是正整數，請寫出布林式來判斷以下情況(是回傳 True，否則回傳False)"
   ]
  },
  {
   "cell_type": "code",
   "execution_count": 2,
   "metadata": {},
   "outputs": [
    {
     "data": {
      "text/plain": [
       "[False, False, True, True, False, False, False, True]"
      ]
     },
     "execution_count": 2,
     "metadata": {},
     "output_type": "execute_result"
    }
   ],
   "source": [
    "def checking (a,b,c):\n",
    "    d1 = a > b \n",
    "    d2 = a % b == 0 and a % c == 0\n",
    "    d3 = a % 2 == 1\n",
    "    d4 = not (5 % 2 == 0 and 5 % 3 == 0)\n",
    "    d5 = b > c and a >= b or c > b and a >= c \n",
    "    d6 = a * b * c == 0\n",
    "    d7 = a == b or a == c or b == c\n",
    "    d8 = a != b and b != c and c != a\n",
    "    return [d1,d2,d3,d4,d5,d6,d7,d8]\n",
    "\n",
    "checking(7,9,13)"
   ]
  },
  {
   "cell_type": "markdown",
   "metadata": {},
   "source": [
    "## 3. 請判斷以下Boolean expression的return value為何?並請 使用python shell window來驗證您的結果。"
   ]
  },
  {
   "cell_type": "code",
   "execution_count": null,
   "metadata": {},
   "outputs": [],
   "source": [
    "e1 = 5 != 3                                 #True\n",
    "e2 = not (5 > 3)                            #False, not True\n",
    "e3 = (5 > 3) and (3 > 5)                    #False, True and False\n",
    "e4 = (5 > 3) or (3 > 5)                     #True, True or False\n",
    "e5 = 3**2 > 2**3                            #True, 9 > 8\n",
    "e6 = not 7*5-2 == 7*6-9                     #False, not True(33 == 33)\n",
    "e7 =7 >= 3 and 7 >= 7                       #True, True and True\n",
    "e8 = 8//3 == 8%3                            #True, 2 == 2\n",
    "e9 = not 3**2+4**2 != 5**2 and 3 < 5        #True, True and True(not (25 != 25) and True)\n",
    "e10 = not not True or 3 < 5                 #True, True or False\n",
    "e11 = 1+2+3 == 3+2+1 or not 4+5 != 5+4      #True, True or not False(6 == 6 or not 9 != 9)\n",
    "e12 = 1*2**3//4 == 5 or not 6*7%8+9 == 10   #True, False or not False(2 == 5 or not 11 == 10)\n",
    "print(e1,e2,e3,e4,e5,e6,e7,e8,e9,e10,e11,e12, sep = '\\n')"
   ]
  },
  {
   "cell_type": "code",
   "execution_count": null,
   "metadata": {},
   "outputs": [],
   "source": []
  }
 ],
 "metadata": {
  "kernelspec": {
   "display_name": "Python 3",
   "language": "python",
   "name": "python3"
  },
  "language_info": {
   "codemirror_mode": {
    "name": "ipython",
    "version": 3
   },
   "file_extension": ".py",
   "mimetype": "text/x-python",
   "name": "python",
   "nbconvert_exporter": "python",
   "pygments_lexer": "ipython3",
   "version": "3.8.3"
  }
 },
 "nbformat": 4,
 "nbformat_minor": 4
}
