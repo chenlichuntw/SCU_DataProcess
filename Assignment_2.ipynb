{
 "cells": [
  {
   "cell_type": "markdown",
   "metadata": {},
   "source": [
    "# 作業二"
   ]
  },
  {
   "cell_type": "markdown",
   "metadata": {},
   "source": [
    "## 1.file io: 請讀取檔案(如連結)，讀取該文字檔裡字母p跟y分別出現幾次(不分大小寫都要計算，ex:Python project之中p的出現次數是2)，並將你的程式碼與執行結果貼在下方 (30%)"
   ]
  },
  {
   "cell_type": "code",
   "execution_count": null,
   "metadata": {},
   "outputs": [],
   "source": [
    "import string\n",
    "file_string = open('2021article.txt','r').read()\n",
    "\n",
    "total = {}\n",
    "for ch in file_string.lower() :\n",
    "    if ch in total :\n",
    "        total[ch] += 1\n",
    "    else :\n",
    "        total[ch] = 1\n",
    "p,y = total['p'],total['y']        \n",
    "print('p有',p,'次','\\n','y有',y,'次',sep = '')"
   ]
  },
  {
   "cell_type": "markdown",
   "metadata": {},
   "source": [
    "## 2.file io(承上題):統計該檔案中所有字發生的次數，並將出現次數大於20的字印出，並將你的程式碼與執行結果貼在下方 (15%)"
   ]
  },
  {
   "cell_type": "code",
   "execution_count": null,
   "metadata": {},
   "outputs": [],
   "source": [
    "import string\n",
    "import operator\n",
    "infile = open('2021article.txt','r')\n",
    "\n",
    "total= {}\n",
    "line = infile.readline()\n",
    "while line != '' :\n",
    "    L = line.split()\n",
    "    for word in L :\n",
    "        while len(word) != 0 and word[-1] not in string.ascii_letters :\n",
    "            word = word[:-1]\n",
    "        while len(word) != 0 and word[0] not in string.ascii_letters :\n",
    "            word = word[1:]\n",
    "        if word.lower() in total :\n",
    "            total[word.lower()] += 1\n",
    "        else :\n",
    "            total[word.lower()] = 1\n",
    "    line = infile.readline()\n",
    "total = {key:total[key] for key in total if total[key]>20} \n",
    "L_total = sorted(total.items(),key = operator.itemgetter(1),reverse = True)\n",
    "for i in L_total :\n",
    "        print('{:9s} {:} {:2d} {:}'.format(i[0],'有',i[1],'次'))      "
   ]
  },
  {
   "cell_type": "markdown",
   "metadata": {},
   "source": [
    "## 3.請將下列數值做Binary Number轉換(20%)"
   ]
  },
  {
   "cell_type": "code",
   "execution_count": null,
   "metadata": {},
   "outputs": [],
   "source": [
    "oct(int('10011111011001001',2))[2:]"
   ]
  },
  {
   "cell_type": "code",
   "execution_count": null,
   "metadata": {},
   "outputs": [],
   "source": [
    "hex(int('1011000011111100011',2))[2:]"
   ]
  },
  {
   "cell_type": "code",
   "execution_count": null,
   "metadata": {},
   "outputs": [],
   "source": [
    "bin(int('a4f9b',16))[2:]"
   ]
  },
  {
   "cell_type": "code",
   "execution_count": null,
   "metadata": {},
   "outputs": [],
   "source": [
    "bin(int('574316',8))[2:]"
   ]
  },
  {
   "cell_type": "markdown",
   "metadata": {},
   "source": [
    "## 4.請將下列做符號與ascii轉換(20%)"
   ]
  },
  {
   "cell_type": "code",
   "execution_count": null,
   "metadata": {},
   "outputs": [],
   "source": [
    "ord('E')"
   ]
  },
  {
   "cell_type": "code",
   "execution_count": null,
   "metadata": {},
   "outputs": [],
   "source": [
    "ord('!')"
   ]
  },
  {
   "cell_type": "code",
   "execution_count": null,
   "metadata": {},
   "outputs": [],
   "source": [
    "chr(122)"
   ]
  },
  {
   "cell_type": "code",
   "execution_count": null,
   "metadata": {},
   "outputs": [],
   "source": [
    "chr(85)"
   ]
  },
  {
   "cell_type": "markdown",
   "metadata": {},
   "source": [
    "## 5.加密與解密: 使用ASCII number 將字串’I LOVE PYTHON’ 加密，並將你的程式碼與執行結果貼在下方(15%)"
   ]
  },
  {
   "cell_type": "code",
   "execution_count": 3,
   "metadata": {},
   "outputs": [
    {
     "name": "stdout",
     "output_type": "stream",
     "text": [
      " 49204c6f766520596f752e\n",
      " I Love You.\n"
     ]
    }
   ],
   "source": [
    "def encode_hex(s) :\n",
    "    ens = ' '\n",
    "    for ch in s :\n",
    "        k = hex(ord(ch))[2:]\n",
    "        ens = ens + k\n",
    "    return ens\n",
    "\n",
    "print(encode_hex('I Love You.'))\n",
    "\n",
    "def decode_hex(n) :\n",
    "    import re\n",
    "    s2 = re.findall('\\w{2}',str(n))\n",
    "    s = ' '\n",
    "    for j in s2 :\n",
    "        s = s + chr(int(j,16))\n",
    "    return s\n",
    "   \n",
    "print(decode_hex(encode_hex('I Love You.')))"
   ]
  },
  {
   "cell_type": "code",
   "execution_count": null,
   "metadata": {},
   "outputs": [],
   "source": []
  }
 ],
 "metadata": {
  "kernelspec": {
   "display_name": "Python 3",
   "language": "python",
   "name": "python3"
  },
  "language_info": {
   "codemirror_mode": {
    "name": "ipython",
    "version": 3
   },
   "file_extension": ".py",
   "mimetype": "text/x-python",
   "name": "python",
   "nbconvert_exporter": "python",
   "pygments_lexer": "ipython3",
   "version": "3.8.3"
  }
 },
 "nbformat": 4,
 "nbformat_minor": 4
}
