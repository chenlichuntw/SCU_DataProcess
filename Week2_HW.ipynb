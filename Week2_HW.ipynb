{
 "cells": [
  {
   "cell_type": "markdown",
   "metadata": {},
   "source": [
    "# Week2 Homework\n",
    "## 第一題\n",
    "### 有一個很大的數12...91011...99100101...99910001001...201920202021(最前面幾位數是123456789，接著則是11一直到20，這樣一直累加到2021)，請問如何用for loop, str, int來產生此數，並計算此數除以11的餘數。"
   ]
  },
  {
   "cell_type": "code",
   "execution_count": 1,
   "metadata": {},
   "outputs": [
    {
     "name": "stdout",
     "output_type": "stream",
     "text": [
      "1\n"
     ]
    }
   ],
   "source": [
    "a = ''\n",
    "for i in range (1,2020) :\n",
    "    a = a + str(i)\n",
    "ans = int(a)%11\n",
    "print(ans)"
   ]
  },
  {
   "cell_type": "markdown",
   "metadata": {},
   "source": [
    "## 第二題\n",
    "### 如何利用題目1的規則，一直到哪一個數才能讓整個大數目超過1000個位數?這個大數目有一千零幾個位數?"
   ]
  },
  {
   "cell_type": "code",
   "execution_count": 2,
   "metadata": {},
   "outputs": [
    {
     "name": "stdout",
     "output_type": "stream",
     "text": [
      "370 1002\n"
     ]
    }
   ],
   "source": [
    "a = ''\n",
    "i = 0\n",
    "while len(a) < 1000 :\n",
    "    i = i + 1\n",
    "    a = a + str(i)\n",
    "ans1 = i\n",
    "ans2 = len(a)\n",
    "print(ans1,ans2)"
   ]
  },
  {
   "cell_type": "markdown",
   "metadata": {},
   "source": [
    "## 第三題\n",
    "### 3. 定義一個正整數的digit sum是他所有位數的和。舉例來說，12345的digit sum是1+2+3+4+5=15。定義一個正整數的digit root是將一個數的digit sum反覆計算，直到產生一個一個位數(介於1到9)為止。舉例來說，12345的digit sum是1+2+3+4+5=15。因為15是兩位數，所以15再求一次digit sum，結果為6，因為6只有一個位數，我們說6是12345的digit root。請寫兩個函數digitsum和digitroot，以正整數為參數，回傳該正整數的digit sum和digit root。請用題目1所產生的數當參數，求該數的digit sum和digit root。"
   ]
  },
  {
   "cell_type": "code",
   "execution_count": 3,
   "metadata": {},
   "outputs": [
    {
     "name": "stdout",
     "output_type": "stream",
     "text": [
      "28140 6\n"
     ]
    }
   ],
   "source": [
    "def digit_sum(x) :\n",
    "    k = []\n",
    "    while x > 10 :\n",
    "        i = x%10\n",
    "        k.append(i)\n",
    "        x = x // 10\n",
    "    k.append(x)\n",
    "    sum1 = 0\n",
    "    for j in k :\n",
    "        sum1 = sum1 + j\n",
    "    return sum1\n",
    "\n",
    "def digit_root(x) :\n",
    "    while x > 10 :\n",
    "        x = digit_sum(x)\n",
    "    return x\n",
    "        \n",
    "def question_1():\n",
    "    a = ''\n",
    "    for i in range (1,2020) :\n",
    "        a = a + str(i)\n",
    "    return int(a)\n",
    "        \n",
    "def main () :\n",
    "    a = question_1()\n",
    "    ans1 = digit_sum(a)\n",
    "    ans2 = digit_root(a)\n",
    "    print(ans1,ans2)\n",
    "main()"
   ]
  },
  {
   "cell_type": "code",
   "execution_count": null,
   "metadata": {},
   "outputs": [],
   "source": []
  }
 ],
 "metadata": {
  "kernelspec": {
   "display_name": "Python 3",
   "language": "python",
   "name": "python3"
  },
  "language_info": {
   "codemirror_mode": {
    "name": "ipython",
    "version": 3
   },
   "file_extension": ".py",
   "mimetype": "text/x-python",
   "name": "python",
   "nbconvert_exporter": "python",
   "pygments_lexer": "ipython3",
   "version": "3.8.3"
  }
 },
 "nbformat": 4,
 "nbformat_minor": 4
}
